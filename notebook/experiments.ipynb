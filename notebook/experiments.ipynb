{
 "cells": [
  {
   "cell_type": "markdown",
   "id": "0119d7c5",
   "metadata": {},
   "source": [
    "here trying 2 different ways to create a tool function. \n",
    "\n",
    "1. using direct @tool decorator\n",
    "\n",
    "2. creating by using langchain based structured tool and defining fun and creating tool"
   ]
  },
  {
   "cell_type": "code",
   "execution_count": 1,
   "id": "54b77d95",
   "metadata": {},
   "outputs": [
    {
     "name": "stdout",
     "output_type": "stream",
     "text": [
      "hi\n"
     ]
    }
   ],
   "source": [
    "print('hi')"
   ]
  },
  {
   "cell_type": "code",
   "execution_count": 2,
   "id": "57823d25",
   "metadata": {},
   "outputs": [],
   "source": [
    "from dotenv import load_dotenv"
   ]
  },
  {
   "cell_type": "code",
   "execution_count": 3,
   "id": "e1815188",
   "metadata": {},
   "outputs": [],
   "source": [
    "from langchain_groq import ChatGroq"
   ]
  },
  {
   "cell_type": "code",
   "execution_count": 4,
   "id": "bc465718",
   "metadata": {},
   "outputs": [],
   "source": [
    "llm = ChatGroq(model= \"deepseek-r1-distill-llama-70b\")"
   ]
  },
  {
   "cell_type": "code",
   "execution_count": 6,
   "id": "8a62b01e",
   "metadata": {},
   "outputs": [
    {
     "data": {
      "text/plain": [
       "AIMessage(content='<think>\\n\\n</think>\\n\\nHello! How can I assist you today? 😊', additional_kwargs={}, response_metadata={'token_usage': {'completion_tokens': 16, 'prompt_tokens': 4, 'total_tokens': 20, 'completion_time': 0.085619275, 'prompt_time': 1.631265749, 'queue_time': 0.043526504, 'total_time': 1.716885024}, 'model_name': 'deepseek-r1-distill-llama-70b', 'system_fingerprint': 'fp_76307ac09b', 'service_tier': 'on_demand', 'finish_reason': 'stop', 'logprobs': None}, id='run--369287c0-9d5c-4d4d-86b8-5d205afca7d0-0', usage_metadata={'input_tokens': 4, 'output_tokens': 16, 'total_tokens': 20})"
      ]
     },
     "execution_count": 6,
     "metadata": {},
     "output_type": "execute_result"
    }
   ],
   "source": [
    "llm.invoke(\"hi\")"
   ]
  },
  {
   "cell_type": "code",
   "execution_count": 7,
   "id": "cdb8f352",
   "metadata": {},
   "outputs": [],
   "source": [
    "from langchain.tools import tool "
   ]
  },
  {
   "cell_type": "code",
   "execution_count": null,
   "id": "cf18a6bb",
   "metadata": {},
   "outputs": [],
   "source": [
    "# here we direcly using @tool decorator to call a tool \n",
    "# this has some of limited access to modification but here coz of tool decorator it is simple and fast\n",
    "\n",
    "@tool \n",
    "\n",
    "def multiply(a:int, b:int) -> int :\n",
    "    \"\"\"\n",
    "    multiply two integers.\n",
    "\n",
    "    Args:\n",
    "      a (int): the first integer.\n",
    "      b (int): the second integer.\n",
    "\n",
    "    Returns:\n",
    "      int: The product of a and b. \n",
    "    \"\"\"\n",
    "\n",
    "    return a * b\n"
   ]
  },
  {
   "cell_type": "code",
   "execution_count": 9,
   "id": "9390903c",
   "metadata": {},
   "outputs": [
    {
     "data": {
      "text/plain": [
       "StructuredTool(name='multiply', description='multiply two integers.\\n\\nArgs:\\n  a (int): the first integer.\\n  b (int): the second integer.\\n\\nReturns:\\n  int: The product of a and b.', args_schema=<class 'langchain_core.utils.pydantic.multiply'>, func=<function multiply at 0x000002617C41D1C0>)"
      ]
     },
     "execution_count": 9,
     "metadata": {},
     "output_type": "execute_result"
    }
   ],
   "source": [
    "multiply"
   ]
  },
  {
   "cell_type": "markdown",
   "id": "e93d0dc6",
   "metadata": {},
   "source": [
    "here we are creating a tool from base which provides us a structured tool itself.   here we difining pydantic , then reating fun and then calling that tool.    this gives us a little more authority over modifications as compared to tool decorator"
   ]
  },
  {
   "cell_type": "code",
   "execution_count": 10,
   "id": "c83cb72d",
   "metadata": {},
   "outputs": [],
   "source": [
    "from langchain_core.tools import StructuredTool"
   ]
  },
  {
   "cell_type": "code",
   "execution_count": 11,
   "id": "0c109d3b",
   "metadata": {},
   "outputs": [],
   "source": [
    "# create pydantic class for weatherInput\n",
    "from pydantic import BaseModel\n",
    "\n",
    "class WeatherInput(BaseModel) :\n",
    "    city : str"
   ]
  },
  {
   "cell_type": "code",
   "execution_count": 12,
   "id": "66cf57b4",
   "metadata": {},
   "outputs": [],
   "source": [
    "# def function get_weather with required args \n",
    "\n",
    "def get_weather(city: str) -> str :\n",
    "    \"\"\" \n",
    "    Get the weather for a given city.\n",
    "    Args:\n",
    "      city (str): the name of the city.\n",
    "\n",
    "    Returns:\n",
    "      str : Astring describing the weather in the city.     \n",
    "    \"\"\""
   ]
  },
  {
   "cell_type": "code",
   "execution_count": null,
   "id": "f69b77ca",
   "metadata": {},
   "outputs": [],
   "source": [
    "weather_tool = StructuredTool.from_function(\n",
    "    func = get_weather,\n",
    "    name= \"get_weather\",\n",
    "    description= \"fetches real-time weather data for a city\",\n",
    "    args_schema= WeatherInput,\n",
    "    )"
   ]
  }
 ],
 "metadata": {
  "kernelspec": {
   "display_name": "env",
   "language": "python",
   "name": "python3"
  },
  "language_info": {
   "codemirror_mode": {
    "name": "ipython",
    "version": 3
   },
   "file_extension": ".py",
   "mimetype": "text/x-python",
   "name": "python",
   "nbconvert_exporter": "python",
   "pygments_lexer": "ipython3",
   "version": "3.12.7"
  }
 },
 "nbformat": 4,
 "nbformat_minor": 5
}
